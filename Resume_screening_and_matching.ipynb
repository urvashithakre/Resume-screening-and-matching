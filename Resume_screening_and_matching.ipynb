{
  "nbformat": 4,
  "nbformat_minor": 0,
  "metadata": {
    "colab": {
      "name": "Resume screening and matching.ipynb",
      "provenance": [],
      "collapsed_sections": []
    },
    "kernelspec": {
      "name": "python3",
      "display_name": "Python 3"
    },
    "language_info": {
      "name": "python"
    }
  },
  "cells": [
    {
      "cell_type": "code",
      "metadata": {
        "colab": {
          "base_uri": "https://localhost:8080/"
        },
        "id": "vbhFCbD3m6pA",
        "outputId": "2beb4ccc-69eb-410c-e2dd-3a17aa486859"
      },
      "source": [
        "pip install docx2txt"
      ],
      "execution_count": 28,
      "outputs": [
        {
          "output_type": "stream",
          "name": "stdout",
          "text": [
            "Requirement already satisfied: docx2txt in /usr/local/lib/python3.7/dist-packages (0.8)\n"
          ]
        }
      ]
    },
    {
      "cell_type": "code",
      "metadata": {
        "id": "ld0x9a06nHbc"
      },
      "source": [
        "import docx2txt"
      ],
      "execution_count": 29,
      "outputs": []
    },
    {
      "cell_type": "code",
      "metadata": {
        "colab": {
          "resources": {
            "http://localhost:8080/nbextensions/google.colab/files.js": {
              "data": "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",
              "ok": true,
              "headers": [
                [
                  "content-type",
                  "application/javascript"
                ]
              ],
              "status": 200,
              "status_text": ""
            }
          },
          "base_uri": "https://localhost:8080/",
          "height": 106
        },
        "id": "F92maWLzneKr",
        "outputId": "04c6ea07-e9cf-44c3-a5ad-45ea22f80608"
      },
      "source": [
        "#Load the data\n",
        "from google.colab import files\n",
        "uploaded = files.upload()"
      ],
      "execution_count": 30,
      "outputs": [
        {
          "output_type": "display_data",
          "data": {
            "text/html": [
              "\n",
              "     <input type=\"file\" id=\"files-01fc4c80-193b-4472-8d70-3cee45eb9876\" name=\"files[]\" multiple disabled\n",
              "        style=\"border:none\" />\n",
              "     <output id=\"result-01fc4c80-193b-4472-8d70-3cee45eb9876\">\n",
              "      Upload widget is only available when the cell has been executed in the\n",
              "      current browser session. Please rerun this cell to enable.\n",
              "      </output>\n",
              "      <script src=\"/nbextensions/google.colab/files.js\"></script> "
            ],
            "text/plain": [
              "<IPython.core.display.HTML object>"
            ]
          },
          "metadata": {}
        },
        {
          "output_type": "stream",
          "name": "stdout",
          "text": [
            "Saving Job Description.docx to Job Description (2).docx\n",
            "Saving Urvashi_Thakre_Resume-WORD.docx to Urvashi_Thakre_Resume-WORD (1).docx\n"
          ]
        }
      ]
    },
    {
      "cell_type": "code",
      "metadata": {
        "colab": {
          "base_uri": "https://localhost:8080/"
        },
        "id": "Ml3lrMILnywz",
        "outputId": "575a072f-3d1a-43f6-d07b-aaef90f9fc11"
      },
      "source": [
        "#Storing resume in a variable\n",
        "resume = docx2txt.process(\"Urvashi_Thakre_Resume-WORD.docx\")\n",
        "print(resume)"
      ],
      "execution_count": 31,
      "outputs": [
        {
          "output_type": "stream",
          "name": "stdout",
          "text": [
            "URVASHI THAKRE\n",
            "\n",
            "Organized and goal-driven individual seeking opportunities to explore new areas and work in a dynamic stable organization.\n",
            "\n",
            "\n",
            "\n",
            "EXPERIENCE\n",
            "\n",
            "\n",
            "\n",
            "MACHINE LEARNING INTERN\n",
            "\n",
            "Suven Consultancy Pvt Ltd.| Feb 2020 - Mar 2021\n",
            "\n",
            "\t\tBuilt Chatbots for online food ordering using DialogFlow.\n",
            "\n",
            "\n",
            "\n",
            "DATA AND BUSINESS ANALYST INTERN\n",
            "\n",
            "The Sparks Foundation | Oct 2020 - Nov 2020\n",
            "\n",
            "\t\tPredicted the percentage score of students based on the number of hours studied.\n",
            "\n",
            "\t\tCreated a decision tree classifier for iris dataset.\n",
            "\n",
            "\t\tCreated a dashboard by performing exploratory data analysis on Tableau.\n",
            "\n",
            "\n",
            "\n",
            "DATA ANALYST INTERN\n",
            "\n",
            "Suven Consultancy Pvt. Ltd.| Oct 2020 – Nov 2020\n",
            "\n",
            "\t\tPerformed analysis of Meteorological data using Python.\n",
            "\n",
            "\t\tRecognized handwritten digits with scikit-learn.\n",
            "\n",
            "\t\tPublished a detailed blog of both projects on Medium.\n",
            "\n",
            "\n",
            "\n",
            "DATA ANALYST INTERN\n",
            "\n",
            "Data@ANZ | May 2020 – Jun 2020\n",
            "\n",
            "\t\tExploratory data analysis and predictive analysis.\n",
            "\n",
            "\n",
            "\n",
            "UNDERGRADUATE & MASTERS VIRTUAL INTERNSHIP PROGRAM\n",
            "\n",
            "Microsoft |Jun 2020 – Jul 2020\n",
            "\n",
            "Completed practical modules in:\n",
            "\n",
            "\t\tBusiness foundation skills, work ready skills, technical engineer skills and soft skills\n",
            "\n",
            "\n",
            "\n",
            "EDUCATION\n",
            "\n",
            "\n",
            "\n",
            "\n",
            "\n",
            "\n",
            "\n",
            "Bachelor of Engineering (B.E), Computer Engineering (2018-2022)\n",
            "\n",
            "Rajiv Gandhi Institute of Technology, Mumbai\n",
            "\n",
            "CGPA (Current) – 9.5/10\n",
            "\n",
            "\n",
            "\n",
            "Higher secondary certificate examination (HSC) Science (2016-2018)\n",
            "\n",
            "Thakur Vidya Mandir High School & Junior College\n",
            "\n",
            "Percentage: 90.46%\n",
            "\n",
            "\n",
            "\n",
            "Secondary school certificate examination (SSC) Thakur Vidya Mandir High School & Junior College Percentage: 94.8%\n",
            "\n",
            "\n",
            "thakreurvashi0805@gmail.com\n",
            "\n",
            "+91-9167356027\n",
            "\n",
            "     linkedin.com/in/urvashithakre    github.com/urvashithakre\n",
            "\n",
            "\n",
            "\n",
            "PROJECTS\n",
            "\n",
            "\n",
            "\n",
            "\n",
            "\n",
            "\n",
            "\n",
            "COVID-19 prediction in India\n",
            "\n",
            "\t\tProposed six machine learning models to predict COVID-19 outbreak in India with models having accuracies from 80% to more than 95%.\n",
            "\n",
            "\n",
            "\n",
            "Flight price prediction using machine learning\n",
            "\n",
            "\t\tCleaned and processed the data.Visualized using various plots to gather meaningful insights.\n",
            "\n",
            "\t\tPredicted the flight prices using various machine learning algorithms to find the one with highest accuracy.\n",
            "\n",
            "\n",
            "\n",
            "House price prediction using machine learning\n",
            "\n",
            "\t\tPerformed exploratory data analysis and predicted the price of houses in Bengaluru using efficient ML algorithms.\n",
            "\n",
            "\n",
            "\n",
            "COVID-19 Dashboard\n",
            "\n",
            "\t\tCreated a dashboard visualizing the total cases, cases per country, daily case count, deaths per country and mortality rate using Tableau.\n",
            "\n",
            "\n",
            "\n",
            "SKILLS\n",
            "\n",
            "\n",
            "\n",
            "\n",
            "\n",
            "\n",
            "\n",
            "\n",
            "\n",
            "Python\n",
            "\n",
            "Python \n",
            "\n",
            "C Programming\n",
            "\n",
            "C Programming \n",
            "\n",
            "\n",
            "\n",
            "\n",
            "\n",
            "Data Science\n",
            "\n",
            "Data Science \n",
            "\n",
            "Machine Learning\n",
            "\n",
            "Machine Learning\n",
            "\n",
            "\n",
            "\n",
            "\n",
            "\n",
            "HTML\n",
            "\n",
            "HTML \n",
            "\n",
            "CSS\n",
            "\n",
            "CSS \n",
            "\n",
            "Tableau\n",
            "\n",
            "Tableau \n",
            "\n",
            "MySQL\n",
            "\n",
            "MySQL\n",
            "\n",
            "\n",
            "\n",
            "Web Scraping\n",
            "\n",
            "Web Scraping\n",
            "\n",
            "DialogFlow Chatbots\n",
            "\n",
            "DialogFlow Chatbots\n",
            "\n",
            "\n",
            "\n",
            "\tPUBLICATIONS\t\n",
            "\n",
            "\n",
            "\n",
            "A Comparative Analysis and Illustrative Study of Machine Learning Models for COVID-19 Prediction in India - International Research Journal of Engineering and Technology (IRJET)\n",
            "\n",
            "\t\t\n",
            "\n",
            "\t\tFlight price prediction using machine learning - Geek Culture, Medium.\n"
          ]
        }
      ]
    },
    {
      "cell_type": "code",
      "metadata": {
        "colab": {
          "base_uri": "https://localhost:8080/"
        },
        "id": "D-bozlH4ucLA",
        "outputId": "beeae290-857f-42ed-b9d9-8cbc5285e96f"
      },
      "source": [
        "print(summarize(resume,ratio=0.3))"
      ],
      "execution_count": 32,
      "outputs": [
        {
          "output_type": "stream",
          "name": "stdout",
          "text": [
            "MACHINE LEARNING INTERN\n",
            "DATA AND BUSINESS ANALYST INTERN\n",
            "Created a dashboard by performing exploratory data analysis on Tableau.\n",
            "Suven Consultancy Pvt. Ltd.| Oct 2020 – Nov 2020\n",
            "Performed analysis of Meteorological data using Python.\n",
            "DATA ANALYST INTERN\n",
            "DATA ANALYST INTERN\n",
            "Exploratory data analysis and predictive analysis.\n",
            "Secondary school certificate examination (SSC) Thakur Vidya Mandir High School & Junior College Percentage: 94.8%\n",
            "Proposed six machine learning models to predict COVID-19 outbreak in India with models having accuracies from 80% to more than 95%.\n",
            "Flight price prediction using machine learning\n",
            "Predicted the flight prices using various machine learning algorithms to find the one with highest accuracy.\n",
            "House price prediction using machine learning\n",
            "Performed exploratory data analysis and predicted the price of houses in Bengaluru using efficient ML algorithms.\n",
            "Data Science \n",
            "Data Science \n",
            "Machine Learning\n",
            "Machine Learning\n",
            "A Comparative Analysis and Illustrative Study of Machine Learning Models for COVID-19 Prediction in India - International Research Journal of Engineering and Technology (IRJET)\n",
            "Flight price prediction using machine learning - Geek Culture, Medium.\n"
          ]
        }
      ]
    },
    {
      "cell_type": "code",
      "metadata": {
        "colab": {
          "base_uri": "https://localhost:8080/"
        },
        "id": "-IFF7BHno_o5",
        "outputId": "b642eabd-180a-4380-f162-66ffa72250ea"
      },
      "source": [
        "#Store the job description in a variable\n",
        "job_desc = docx2txt.process(\"Job Description.docx\")\n",
        "print(job_desc)"
      ],
      "execution_count": 33,
      "outputs": [
        {
          "output_type": "stream",
          "name": "stdout",
          "text": [
            "Job Description\n",
            "\n",
            "o At Protium, we’re proud to stand at the forefront of the Big Data revolution. Using the latest analytic tools and processes, we’re able to maximize our offerings and deliver unparalleled service and support. To help carry us even further, we’re searching for an experienced data analyst to join our team. The ideal candidate should be highly skilled in all aspects of data analytics, including mining, generation, and visualization. Additionally, you should be committed to transforming data into readable, goal-driven reports for continued innovation and growth.\n",
            "\n",
            "• Objectives of this Role\n",
            "\n",
            "o Develop, implement, and maintain leading-edge analytic systems, taking complicated problems and building simple frameworks\n",
            "\n",
            "o Identify trends and opportunities for growth through analysis of complex data sets\n",
            "\n",
            "o Evaluate organizational methods and provide source-to-target mappings and information-model specification documents for data sets\n",
            "\n",
            "o Create best-practice reports based on data mining, analysis, and visualization\n",
            "\n",
            "o Evaluate internal systems for efficiency, problems, and inaccuracies, developing and maintaining protocols for handling, processing, and cleaning data\n",
            "\n",
            "o Work directly with management and users to gather requirements, provide status updates, and build relationships\n",
            "\n",
            "• Daily and Monthly Responsibilities\n",
            "\n",
            "o Work closely with product managers to understand and maintain focus on their analytical needs, including identifying critical metrics and KPIs, and deliver actionable insights to relevant decision-makers\n",
            "\n",
            "o Proactively analyze data to answer key questions from stakeholders or out of self-initiated curiosity with an eye for what drives business performance, investigating and communicating areas for improvement in efficiency and productivity\n",
            "\n",
            "o Create and maintain rich interactive visualizations through data interpretation and analysis integrating various reporting components from multiple data sources\n",
            "\n",
            "o Define and implement data acquisition and integration logic, selecting appropriate combination of methods and tools within defined technology stack to ensure optimal scalability and performance of the solution\n",
            "\n",
            "o Develop and maintain databases by acquiring data from primary and secondary sources, and build scripts that will make our data evaluation process more flexible or scalable across data sets\n",
            "\n",
            "• Skills and Qualifications\n",
            "\n",
            "o Any Bachelor’s degree in Mathematics, Computer Science, Economics, or Statistics or any relevant domain.\n",
            "\n",
            "o 1-2 years' experience as a data analyst\n",
            "\n",
            "o Proven analytic skills, including mining, evaluation, analysis, and visualization\n",
            "\n",
            "o Technical writing experience in relevant areas, including queries, reports, and presentations\n",
            "\n",
            "o Strong SQL or Excel skills with the ability to learn other analytic tools is must.\n",
            "\n",
            "o Experience in data visualization tool is an added advantage.\n",
            "\n",
            "• Preferred Qualifications\n",
            "\n",
            "o Prior experience with database and model design and segmentation techniques\n",
            "\n",
            "o Strong programming experience with frameworks including XML, Javascript, and ETL\n",
            "\n",
            "o Practical experience in statistical analysis through the use of statistical packages including Excel, SPSS, and SAS\n",
            "\n",
            "o Proven success in a collaborative, team-oriented environment\n"
          ]
        }
      ]
    },
    {
      "cell_type": "code",
      "metadata": {
        "colab": {
          "base_uri": "https://localhost:8080/"
        },
        "id": "IjJho9isrJHE",
        "outputId": "a47736fd-a671-4b86-8451-12f5052067a6"
      },
      "source": [
        "pip install gensim"
      ],
      "execution_count": 34,
      "outputs": [
        {
          "output_type": "stream",
          "name": "stdout",
          "text": [
            "Requirement already satisfied: gensim in /usr/local/lib/python3.7/dist-packages (3.6.0)\n",
            "Requirement already satisfied: six>=1.5.0 in /usr/local/lib/python3.7/dist-packages (from gensim) (1.15.0)\n",
            "Requirement already satisfied: scipy>=0.18.1 in /usr/local/lib/python3.7/dist-packages (from gensim) (1.4.1)\n",
            "Requirement already satisfied: smart-open>=1.2.1 in /usr/local/lib/python3.7/dist-packages (from gensim) (5.2.1)\n",
            "Requirement already satisfied: numpy>=1.11.3 in /usr/local/lib/python3.7/dist-packages (from gensim) (1.19.5)\n"
          ]
        }
      ]
    },
    {
      "cell_type": "code",
      "metadata": {
        "colab": {
          "base_uri": "https://localhost:8080/"
        },
        "id": "dRspxXKNqCP2",
        "outputId": "6db99ec8-524c-4f90-8de6-dd440d0aa25f"
      },
      "source": [
        "# Summarising job description\n",
        "from gensim.summarization.summarizer import summarize\n",
        "from gensim.summarization import keywords\n",
        "print(summarize(job_desc,ratio=0.5))"
      ],
      "execution_count": 35,
      "outputs": [
        {
          "output_type": "stream",
          "name": "stdout",
          "text": [
            "Using the latest analytic tools and processes, we’re able to maximize our offerings and deliver unparalleled service and support.\n",
            "The ideal candidate should be highly skilled in all aspects of data analytics, including mining, generation, and visualization.\n",
            "o Develop, implement, and maintain leading-edge analytic systems, taking complicated problems and building simple frameworks\n",
            "o Evaluate organizational methods and provide source-to-target mappings and information-model specification documents for data sets\n",
            "o Create best-practice reports based on data mining, analysis, and visualization\n",
            "o Evaluate internal systems for efficiency, problems, and inaccuracies, developing and maintaining protocols for handling, processing, and cleaning data\n",
            "o Work closely with product managers to understand and maintain focus on their analytical needs, including identifying critical metrics and KPIs, and deliver actionable insights to relevant decision-makers\n",
            "o Create and maintain rich interactive visualizations through data interpretation and analysis integrating various reporting components from multiple data sources\n",
            "o Develop and maintain databases by acquiring data from primary and secondary sources, and build scripts that will make our data evaluation process more flexible or scalable across data sets\n",
            "o Proven analytic skills, including mining, evaluation, analysis, and visualization\n",
            "o Technical writing experience in relevant areas, including queries, reports, and presentations\n",
            "o Strong SQL or Excel skills with the ability to learn other analytic tools is must.\n",
            "o Experience in data visualization tool is an added advantage.\n",
            "o Strong programming experience with frameworks including XML, Javascript, and ETL\n",
            "o Practical experience in statistical analysis through the use of statistical packages including Excel, SPSS, and SAS\n"
          ]
        }
      ]
    },
    {
      "cell_type": "code",
      "metadata": {
        "id": "wwK67Lp_qZAo"
      },
      "source": [
        "#Creating a list of text\n",
        "text = [resume,job_desc]"
      ],
      "execution_count": 36,
      "outputs": []
    },
    {
      "cell_type": "code",
      "metadata": {
        "id": "TrgyvTnur2hk"
      },
      "source": [
        "from sklearn.feature_extraction.text import CountVectorizer\n",
        "cv = CountVectorizer()\n",
        "count_matrix = cv.fit_transform(text)"
      ],
      "execution_count": 37,
      "outputs": []
    },
    {
      "cell_type": "code",
      "metadata": {
        "colab": {
          "base_uri": "https://localhost:8080/"
        },
        "id": "dfM_0If3sMRq",
        "outputId": "8db776ff-4faf-4fff-d5d7-58f28af2545c"
      },
      "source": [
        "from sklearn.metrics.pairwise import cosine_similarity\n",
        "#print similarity score\n",
        "print(\"\\nSimilarity scores:\")\n",
        "print(cosine_similarity(count_matrix))"
      ],
      "execution_count": 38,
      "outputs": [
        {
          "output_type": "stream",
          "name": "stdout",
          "text": [
            "\n",
            "Similarity scores:\n",
            "[[1.         0.49120848]\n",
            " [0.49120848 1.        ]]\n"
          ]
        }
      ]
    },
    {
      "cell_type": "code",
      "metadata": {
        "colab": {
          "base_uri": "https://localhost:8080/"
        },
        "id": "IprsSoCfs0q2",
        "outputId": "dac34207-9842-4d38-d12c-22df250b211a"
      },
      "source": [
        "#Calculating match percentage \n",
        "MatchPercent = cosine_similarity(count_matrix)[0][1] * 100\n",
        "#Round to 2 decimal places \n",
        "MatchPercent = round(MatchPercent,2)\n",
        "print(\"Your resume matches about \"+ str(MatchPercent)+ \"% of the job description\")"
      ],
      "execution_count": 39,
      "outputs": [
        {
          "output_type": "stream",
          "name": "stdout",
          "text": [
            "Your resume matches about 49.12% of the job description\n"
          ]
        }
      ]
    },
    {
      "cell_type": "code",
      "metadata": {
        "id": "TTntuLqYt9yC"
      },
      "source": [
        ""
      ],
      "execution_count": 39,
      "outputs": []
    }
  ]
}